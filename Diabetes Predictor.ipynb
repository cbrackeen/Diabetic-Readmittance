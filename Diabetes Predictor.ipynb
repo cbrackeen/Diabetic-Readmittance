{
 "cells": [
  {
   "cell_type": "markdown",
   "metadata": {},
   "source": [
    "# Diabetic Readmittance in the United States\n",
    "\n",
    "This data was collected over ten years from 1999-2008 across 130 hospitals in the United States. Data from the database meets the following criteria:\n",
    "   - Inpatient encounter\n",
    "   - Diabetic encounter\n",
    "   - Length of stay was betwen 1-14 days\n",
    "   - Laboratory tests were performed during encounter\n",
    "   - Medications were admitted during the encounter\n",
    "   \n",
    "We will explore the data to understand the most significant tests to run and look the most significant tests to run and factors to look at to prevent readmittance into the hospital for a diabetic encounter after the initial encounter. In our model, we will create a model to predict readmittance in the hopsital based on diagnostic information provided by tests run on patients at the time of their initial admittance."
   ]
  },
  {
   "cell_type": "code",
   "execution_count": 10,
   "metadata": {},
   "outputs": [],
   "source": [
    "import pandas as pd\n",
    "from matplotlib import pyplot as plt\n",
    "import numpy as np\n",
    "import math\n",
    "import seaborn as sns\n",
    "import sklearn\n",
    "from sklearn import linear_model\n",
    "from sklearn import preprocessing\n",
    "from sklearn import ensemble\n",
    "from sklearn import tree\n",
    "from sklearn.model_selection import cross_val_score\n",
    "from sklearn.metrics import confusion_matrix\n",
    "from sklearn.model_selection import train_test_split\n",
    "from sklearn.grid_search import GridSearchCV\n",
    "from sklearn.feature_selection import RFECV\n",
    "from sklearn.linear_model import LogisticRegression\n",
    "from sklearn.neighbors import KNeighborsClassifier\n",
    "from sklearn.naive_bayes import BernoulliNB\n",
    "from sklearn.svm import SVC\n",
    "import pydotplus\n",
    "import graphviz\n",
    "from IPython.display import Image\n",
    "%matplotlib inline\n",
    "sns.set_style('white')"
   ]
  },
  {
   "cell_type": "code",
   "execution_count": 11,
   "metadata": {},
   "outputs": [
    {
     "name": "stderr",
     "output_type": "stream",
     "text": [
      "/Library/Frameworks/Python.framework/Versions/3.6/lib/python3.6/site-packages/IPython/core/interactiveshell.py:2728: DtypeWarning: Columns (10) have mixed types. Specify dtype option on import or set low_memory=False.\n",
      "  interactivity=interactivity, compiler=compiler, result=result)\n"
     ]
    }
   ],
   "source": [
    "data = pd.read_csv('diabetic_data.csv', na_values='?')"
   ]
  },
  {
   "cell_type": "code",
   "execution_count": 12,
   "metadata": {},
   "outputs": [
    {
     "name": "stdout",
     "output_type": "stream",
     "text": [
      "False    101766\n",
      "Name: encounter_id, dtype: int64\n",
      "False    101766\n",
      "Name: patient_nbr, dtype: int64\n",
      "False    99493\n",
      "True      2273\n",
      "Name: race, dtype: int64\n",
      "False    101766\n",
      "Name: gender, dtype: int64\n",
      "False    101766\n",
      "Name: age, dtype: int64\n",
      "True     98569\n",
      "False     3197\n",
      "Name: weight, dtype: int64\n",
      "False    101766\n",
      "Name: admission_type_id, dtype: int64\n",
      "False    101766\n",
      "Name: discharge_disposition_id, dtype: int64\n",
      "False    101766\n",
      "Name: admission_source_id, dtype: int64\n",
      "False    101766\n",
      "Name: time_in_hospital, dtype: int64\n",
      "False    61510\n",
      "True     40256\n",
      "Name: payer_code, dtype: int64\n",
      "False    51817\n",
      "True     49949\n",
      "Name: medical_specialty, dtype: int64\n",
      "False    101766\n",
      "Name: num_lab_procedures, dtype: int64\n",
      "False    101766\n",
      "Name: num_procedures, dtype: int64\n",
      "False    101766\n",
      "Name: num_medications, dtype: int64\n",
      "False    101766\n",
      "Name: number_outpatient, dtype: int64\n",
      "False    101766\n",
      "Name: number_emergency, dtype: int64\n",
      "False    101766\n",
      "Name: number_inpatient, dtype: int64\n",
      "False    101745\n",
      "True         21\n",
      "Name: diag_1, dtype: int64\n",
      "False    101408\n",
      "True        358\n",
      "Name: diag_2, dtype: int64\n",
      "False    100343\n",
      "True       1423\n",
      "Name: diag_3, dtype: int64\n",
      "False    101766\n",
      "Name: number_diagnoses, dtype: int64\n",
      "False    101766\n",
      "Name: max_glu_serum, dtype: int64\n",
      "False    101766\n",
      "Name: A1Cresult, dtype: int64\n",
      "False    101766\n",
      "Name: metformin, dtype: int64\n",
      "False    101766\n",
      "Name: repaglinide, dtype: int64\n",
      "False    101766\n",
      "Name: nateglinide, dtype: int64\n",
      "False    101766\n",
      "Name: chlorpropamide, dtype: int64\n",
      "False    101766\n",
      "Name: glimepiride, dtype: int64\n",
      "False    101766\n",
      "Name: acetohexamide, dtype: int64\n",
      "False    101766\n",
      "Name: glipizide, dtype: int64\n",
      "False    101766\n",
      "Name: glyburide, dtype: int64\n",
      "False    101766\n",
      "Name: tolbutamide, dtype: int64\n",
      "False    101766\n",
      "Name: pioglitazone, dtype: int64\n",
      "False    101766\n",
      "Name: rosiglitazone, dtype: int64\n",
      "False    101766\n",
      "Name: acarbose, dtype: int64\n",
      "False    101766\n",
      "Name: miglitol, dtype: int64\n",
      "False    101766\n",
      "Name: troglitazone, dtype: int64\n",
      "False    101766\n",
      "Name: tolazamide, dtype: int64\n",
      "False    101766\n",
      "Name: examide, dtype: int64\n",
      "False    101766\n",
      "Name: citoglipton, dtype: int64\n",
      "False    101766\n",
      "Name: insulin, dtype: int64\n",
      "False    101766\n",
      "Name: glyburide-metformin, dtype: int64\n",
      "False    101766\n",
      "Name: glipizide-metformin, dtype: int64\n",
      "False    101766\n",
      "Name: glimepiride-pioglitazone, dtype: int64\n",
      "False    101766\n",
      "Name: metformin-rosiglitazone, dtype: int64\n",
      "False    101766\n",
      "Name: metformin-pioglitazone, dtype: int64\n",
      "False    101766\n",
      "Name: change, dtype: int64\n",
      "False    101766\n",
      "Name: diabetesMed, dtype: int64\n",
      "False    101766\n",
      "Name: readmitted, dtype: int64\n"
     ]
    }
   ],
   "source": [
    "#Check out amount of data that is missing\n",
    "for col in data.columns:\n",
    "    print((pd.isnull(data[col])).value_counts())"
   ]
  },
  {
   "cell_type": "code",
   "execution_count": 13,
   "metadata": {},
   "outputs": [],
   "source": [
    "#The weight columns is missing almost all its data, we will drop that\n",
    "#Two columns are missing around half: payer_code, medical_specialty, seem hospital specific\n",
    "#We will drop these three rows\n",
    "data_clean = data.drop(columns=['weight','payer_code','medical_specialty'])\n",
    "\n",
    "#Also drop values that are simply identifiers\n",
    "data_clean = data_clean.drop(columns=['encounter_id','patient_nbr','admission_source_id'])"
   ]
  },
  {
   "cell_type": "code",
   "execution_count": 14,
   "metadata": {},
   "outputs": [
    {
     "data": {
      "text/html": [
       "<div>\n",
       "<style scoped>\n",
       "    .dataframe tbody tr th:only-of-type {\n",
       "        vertical-align: middle;\n",
       "    }\n",
       "\n",
       "    .dataframe tbody tr th {\n",
       "        vertical-align: top;\n",
       "    }\n",
       "\n",
       "    .dataframe thead th {\n",
       "        text-align: right;\n",
       "    }\n",
       "</style>\n",
       "<table border=\"1\" class=\"dataframe\">\n",
       "  <thead>\n",
       "    <tr style=\"text-align: right;\">\n",
       "      <th></th>\n",
       "      <th>race</th>\n",
       "      <th>gender</th>\n",
       "      <th>age</th>\n",
       "      <th>admission_type_id</th>\n",
       "      <th>discharge_disposition_id</th>\n",
       "      <th>time_in_hospital</th>\n",
       "      <th>num_lab_procedures</th>\n",
       "      <th>num_procedures</th>\n",
       "      <th>num_medications</th>\n",
       "      <th>number_outpatient</th>\n",
       "      <th>...</th>\n",
       "      <th>citoglipton</th>\n",
       "      <th>insulin</th>\n",
       "      <th>glyburide-metformin</th>\n",
       "      <th>glipizide-metformin</th>\n",
       "      <th>glimepiride-pioglitazone</th>\n",
       "      <th>metformin-rosiglitazone</th>\n",
       "      <th>metformin-pioglitazone</th>\n",
       "      <th>change</th>\n",
       "      <th>diabetesMed</th>\n",
       "      <th>readmitted</th>\n",
       "    </tr>\n",
       "  </thead>\n",
       "  <tbody>\n",
       "    <tr>\n",
       "      <th>0</th>\n",
       "      <td>Caucasian</td>\n",
       "      <td>Female</td>\n",
       "      <td>[0-10)</td>\n",
       "      <td>6</td>\n",
       "      <td>25</td>\n",
       "      <td>1</td>\n",
       "      <td>41</td>\n",
       "      <td>0</td>\n",
       "      <td>1</td>\n",
       "      <td>0</td>\n",
       "      <td>...</td>\n",
       "      <td>No</td>\n",
       "      <td>No</td>\n",
       "      <td>No</td>\n",
       "      <td>No</td>\n",
       "      <td>No</td>\n",
       "      <td>No</td>\n",
       "      <td>No</td>\n",
       "      <td>No</td>\n",
       "      <td>No</td>\n",
       "      <td>NO</td>\n",
       "    </tr>\n",
       "    <tr>\n",
       "      <th>1</th>\n",
       "      <td>Caucasian</td>\n",
       "      <td>Female</td>\n",
       "      <td>[10-20)</td>\n",
       "      <td>1</td>\n",
       "      <td>1</td>\n",
       "      <td>3</td>\n",
       "      <td>59</td>\n",
       "      <td>0</td>\n",
       "      <td>18</td>\n",
       "      <td>0</td>\n",
       "      <td>...</td>\n",
       "      <td>No</td>\n",
       "      <td>Up</td>\n",
       "      <td>No</td>\n",
       "      <td>No</td>\n",
       "      <td>No</td>\n",
       "      <td>No</td>\n",
       "      <td>No</td>\n",
       "      <td>Ch</td>\n",
       "      <td>Yes</td>\n",
       "      <td>&gt;30</td>\n",
       "    </tr>\n",
       "    <tr>\n",
       "      <th>2</th>\n",
       "      <td>AfricanAmerican</td>\n",
       "      <td>Female</td>\n",
       "      <td>[20-30)</td>\n",
       "      <td>1</td>\n",
       "      <td>1</td>\n",
       "      <td>2</td>\n",
       "      <td>11</td>\n",
       "      <td>5</td>\n",
       "      <td>13</td>\n",
       "      <td>2</td>\n",
       "      <td>...</td>\n",
       "      <td>No</td>\n",
       "      <td>No</td>\n",
       "      <td>No</td>\n",
       "      <td>No</td>\n",
       "      <td>No</td>\n",
       "      <td>No</td>\n",
       "      <td>No</td>\n",
       "      <td>No</td>\n",
       "      <td>Yes</td>\n",
       "      <td>NO</td>\n",
       "    </tr>\n",
       "    <tr>\n",
       "      <th>3</th>\n",
       "      <td>Caucasian</td>\n",
       "      <td>Male</td>\n",
       "      <td>[30-40)</td>\n",
       "      <td>1</td>\n",
       "      <td>1</td>\n",
       "      <td>2</td>\n",
       "      <td>44</td>\n",
       "      <td>1</td>\n",
       "      <td>16</td>\n",
       "      <td>0</td>\n",
       "      <td>...</td>\n",
       "      <td>No</td>\n",
       "      <td>Up</td>\n",
       "      <td>No</td>\n",
       "      <td>No</td>\n",
       "      <td>No</td>\n",
       "      <td>No</td>\n",
       "      <td>No</td>\n",
       "      <td>Ch</td>\n",
       "      <td>Yes</td>\n",
       "      <td>NO</td>\n",
       "    </tr>\n",
       "    <tr>\n",
       "      <th>4</th>\n",
       "      <td>Caucasian</td>\n",
       "      <td>Male</td>\n",
       "      <td>[40-50)</td>\n",
       "      <td>1</td>\n",
       "      <td>1</td>\n",
       "      <td>1</td>\n",
       "      <td>51</td>\n",
       "      <td>0</td>\n",
       "      <td>8</td>\n",
       "      <td>0</td>\n",
       "      <td>...</td>\n",
       "      <td>No</td>\n",
       "      <td>Steady</td>\n",
       "      <td>No</td>\n",
       "      <td>No</td>\n",
       "      <td>No</td>\n",
       "      <td>No</td>\n",
       "      <td>No</td>\n",
       "      <td>Ch</td>\n",
       "      <td>Yes</td>\n",
       "      <td>NO</td>\n",
       "    </tr>\n",
       "  </tbody>\n",
       "</table>\n",
       "<p>5 rows × 44 columns</p>\n",
       "</div>"
      ],
      "text/plain": [
       "              race  gender      age  admission_type_id  \\\n",
       "0        Caucasian  Female   [0-10)                  6   \n",
       "1        Caucasian  Female  [10-20)                  1   \n",
       "2  AfricanAmerican  Female  [20-30)                  1   \n",
       "3        Caucasian    Male  [30-40)                  1   \n",
       "4        Caucasian    Male  [40-50)                  1   \n",
       "\n",
       "   discharge_disposition_id  time_in_hospital  num_lab_procedures  \\\n",
       "0                        25                 1                  41   \n",
       "1                         1                 3                  59   \n",
       "2                         1                 2                  11   \n",
       "3                         1                 2                  44   \n",
       "4                         1                 1                  51   \n",
       "\n",
       "   num_procedures  num_medications  number_outpatient    ...      citoglipton  \\\n",
       "0               0                1                  0    ...               No   \n",
       "1               0               18                  0    ...               No   \n",
       "2               5               13                  2    ...               No   \n",
       "3               1               16                  0    ...               No   \n",
       "4               0                8                  0    ...               No   \n",
       "\n",
       "   insulin glyburide-metformin glipizide-metformin glimepiride-pioglitazone  \\\n",
       "0       No                  No                  No                       No   \n",
       "1       Up                  No                  No                       No   \n",
       "2       No                  No                  No                       No   \n",
       "3       Up                  No                  No                       No   \n",
       "4   Steady                  No                  No                       No   \n",
       "\n",
       "   metformin-rosiglitazone metformin-pioglitazone change diabetesMed  \\\n",
       "0                       No                     No     No          No   \n",
       "1                       No                     No     Ch         Yes   \n",
       "2                       No                     No     No         Yes   \n",
       "3                       No                     No     Ch         Yes   \n",
       "4                       No                     No     Ch         Yes   \n",
       "\n",
       "  readmitted  \n",
       "0         NO  \n",
       "1        >30  \n",
       "2         NO  \n",
       "3         NO  \n",
       "4         NO  \n",
       "\n",
       "[5 rows x 44 columns]"
      ]
     },
     "execution_count": 14,
     "metadata": {},
     "output_type": "execute_result"
    }
   ],
   "source": [
    "data_clean.head()"
   ]
  },
  {
   "cell_type": "code",
   "execution_count": 15,
   "metadata": {},
   "outputs": [
    {
     "data": {
      "text/plain": [
       "98053"
      ]
     },
     "execution_count": 15,
     "metadata": {},
     "output_type": "execute_result"
    }
   ],
   "source": [
    "#Now dropping na will leave us with 98000 datapoints still\n",
    "data_clean = data_clean.dropna()\n",
    "len(data_clean)"
   ]
  },
  {
   "cell_type": "code",
   "execution_count": 16,
   "metadata": {},
   "outputs": [],
   "source": [
    "#Convert gender to useable binary\n",
    "data_clean.gender = (data_clean.gender == \"Female\").astype(int)\n",
    "\n",
    "#Convert age to useable numbers\n",
    "def change_age(rang):\n",
    "    if len(rang) == 6:\n",
    "        return 5\n",
    "    return int(rang[1:3])+5\n",
    "\n",
    "data_clean.age = data_clean.age.apply(change_age)"
   ]
  },
  {
   "cell_type": "code",
   "execution_count": 17,
   "metadata": {},
   "outputs": [],
   "source": [
    "#Drop Diagnosis code rows with over 700 unique values\n",
    "data_clean = data_clean.drop(columns=['diag_1','diag_2','diag_3'])"
   ]
  },
  {
   "cell_type": "code",
   "execution_count": 18,
   "metadata": {},
   "outputs": [],
   "source": [
    "#Convert columns to categorized binaries\n",
    "data_clean = pd.get_dummies(data_clean, columns=['A1Cresult','max_glu_serum','race', 'metformin',\n",
    "                                                'repaglinide','nateglinide','chlorpropamide',\n",
    "                                                'glimepiride','glipizide','glyburide',\n",
    "                                                'pioglitazone','rosiglitazone','acarbose',\n",
    "                                                'miglitol','tolazamide','insulin',\n",
    "                                                'glyburide-metformin'])\n",
    "\n",
    "#Convert remaining columns to simple binary 0 & 1\n",
    "data_clean.acetohexamide = (data_clean.acetohexamide == 'Steady').astype(int)\n",
    "data_clean.tolbutamide = (data_clean.tolbutamide == 'Steady').astype(int)\n",
    "data_clean.troglitazone = (data_clean.troglitazone == 'Steady').astype(int)\n",
    "data_clean.examide = (data_clean.examide == 'Steady').astype(int)\n",
    "data_clean.citoglipton = (data_clean.citoglipton == 'Steady').astype(int)\n",
    "data_clean['glipizide-metformin'] = (data_clean['glipizide-metformin'] == 'Steady').astype(int)\n",
    "data_clean['glimepiride-pioglitazone'] = (data_clean['glimepiride-pioglitazone'] \n",
    "                                          == 'Steady').astype(int)\n",
    "data_clean['metformin-rosiglitazone'] = (data_clean['metformin-rosiglitazone'] == \n",
    "                                        'Steady').astype(int)\n",
    "data_clean['metformin-pioglitazone'] = (data_clean['metformin-pioglitazone'] == \n",
    "                                        'Steady').astype(int)\n",
    "data_clean.change = (data_clean.change == 'Ch').astype(int)\n",
    "data_clean.diabetesMed = (data_clean.diabetesMed == 'Yes').astype(int)\n",
    "data_clean.readmitted = (data_clean.readmitted != 'NO').astype(int)"
   ]
  },
  {
   "cell_type": "code",
   "execution_count": 19,
   "metadata": {},
   "outputs": [],
   "source": [
    "#Separating out predictor and outcome variables\n",
    "X = data_clean.drop(columns=['readmitted'])\n",
    "y = data_clean.readmitted"
   ]
  },
  {
   "cell_type": "code",
   "execution_count": 20,
   "metadata": {},
   "outputs": [],
   "source": [
    "#Randomly splitting \n",
    "X_train, X_test, y_train, y_test = train_test_split(X,y,test_size=0.2)"
   ]
  },
  {
   "cell_type": "code",
   "execution_count": 21,
   "metadata": {},
   "outputs": [
    {
     "data": {
      "text/plain": [
       "RandomForestClassifier(bootstrap=True, class_weight=None, criterion='entropy',\n",
       "            max_depth=10, max_features='auto', max_leaf_nodes=None,\n",
       "            min_impurity_decrease=0.0, min_impurity_split=None,\n",
       "            min_samples_leaf=1, min_samples_split=2,\n",
       "            min_weight_fraction_leaf=0.0, n_estimators=30, n_jobs=1,\n",
       "            oob_score=False, random_state=None, verbose=0,\n",
       "            warm_start=False)"
      ]
     },
     "execution_count": 21,
     "metadata": {},
     "output_type": "execute_result"
    }
   ],
   "source": [
    "#Initial Model Random Forest Classifier\n",
    "rfc = ensemble.RandomForestClassifier(n_estimators=30, criterion='entropy',\n",
    "                                      max_depth=10,)\n",
    "rfc.fit(X_train, y_train)"
   ]
  },
  {
   "cell_type": "code",
   "execution_count": 22,
   "metadata": {},
   "outputs": [],
   "source": [
    "#Storing CVS values for comparison\n",
    "rfc_init_cvs = cross_val_score(rfc, X_train, y_train, cv=10)"
   ]
  },
  {
   "cell_type": "code",
   "execution_count": 23,
   "metadata": {},
   "outputs": [
    {
     "data": {
      "text/plain": [
       "DecisionTreeClassifier(class_weight=None, criterion='entropy', max_depth=10,\n",
       "            max_features=None, max_leaf_nodes=None,\n",
       "            min_impurity_decrease=0.0, min_impurity_split=None,\n",
       "            min_samples_leaf=1, min_samples_split=2,\n",
       "            min_weight_fraction_leaf=0.0, presort=False, random_state=None,\n",
       "            splitter='best')"
      ]
     },
     "execution_count": 23,
     "metadata": {},
     "output_type": "execute_result"
    }
   ],
   "source": [
    "#Initial Model Decision Tree Classifier\n",
    "decision_tree = tree.DecisionTreeClassifier(criterion='entropy',max_depth=10)\n",
    "decision_tree.fit(X_train, y_train)"
   ]
  },
  {
   "cell_type": "code",
   "execution_count": 24,
   "metadata": {},
   "outputs": [],
   "source": [
    "dt_init_cvs = cross_val_score(decision_tree, X_train, y_train, cv=10)"
   ]
  },
  {
   "cell_type": "code",
   "execution_count": 25,
   "metadata": {},
   "outputs": [
    {
     "data": {
      "text/plain": [
       "LogisticRegression(C=1.0, class_weight=None, dual=False, fit_intercept=True,\n",
       "          intercept_scaling=1, max_iter=100, multi_class='ovr', n_jobs=1,\n",
       "          penalty='l2', random_state=None, solver='liblinear', tol=0.0001,\n",
       "          verbose=0, warm_start=False)"
      ]
     },
     "execution_count": 25,
     "metadata": {},
     "output_type": "execute_result"
    }
   ],
   "source": [
    "#Initial Model Logistic Regression\n",
    "lr = LogisticRegression()\n",
    "lr.fit(X_train, y_train)"
   ]
  },
  {
   "cell_type": "code",
   "execution_count": 26,
   "metadata": {},
   "outputs": [],
   "source": [
    "lr_init_cvs = cross_val_score(lr, X_train, y_train, cv=10)"
   ]
  },
  {
   "cell_type": "code",
   "execution_count": 27,
   "metadata": {},
   "outputs": [
    {
     "data": {
      "text/plain": [
       "KNeighborsClassifier(algorithm='auto', leaf_size=30, metric='minkowski',\n",
       "           metric_params=None, n_jobs=1, n_neighbors=10, p=2,\n",
       "           weights='uniform')"
      ]
     },
     "execution_count": 27,
     "metadata": {},
     "output_type": "execute_result"
    }
   ],
   "source": [
    "#Initial Model K-Nearest Neighbors\n",
    "KNN = KNeighborsClassifier(n_neighbors=10)\n",
    "KNN.fit(X_train, y_train)"
   ]
  },
  {
   "cell_type": "code",
   "execution_count": 28,
   "metadata": {},
   "outputs": [],
   "source": [
    "KNN_init_cvs = cross_val_score(KNN, X_train, y_train, cv=10)"
   ]
  },
  {
   "cell_type": "code",
   "execution_count": 29,
   "metadata": {},
   "outputs": [
    {
     "data": {
      "text/plain": [
       "BernoulliNB(alpha=1.0, binarize=0.0, class_prior=None, fit_prior=True)"
      ]
     },
     "execution_count": 29,
     "metadata": {},
     "output_type": "execute_result"
    }
   ],
   "source": [
    "#Initial Model Naive Bayes\n",
    "bnb = BernoulliNB()\n",
    "bnb.fit(X_train, y_train)"
   ]
  },
  {
   "cell_type": "code",
   "execution_count": 30,
   "metadata": {},
   "outputs": [],
   "source": [
    "bnb_init_cvs = cross_val_score(bnb, X_train, y_train, cv=10)"
   ]
  },
  {
   "cell_type": "code",
   "execution_count": 31,
   "metadata": {},
   "outputs": [],
   "source": [
    "init_models = pd.DataFrame({'RFC': rfc_init_cvs, \n",
    "              'DT': dt_init_cvs,\n",
    "              'LR': lr_init_cvs,\n",
    "              'KNN': KNN_init_cvs,\n",
    "              'BNB': bnb_init_cvs})"
   ]
  },
  {
   "cell_type": "code",
   "execution_count": 32,
   "metadata": {},
   "outputs": [
    {
     "name": "stdout",
     "output_type": "stream",
     "text": [
      "BNB : 0.607(0.008)\n",
      "DT  : 0.622(0.007)\n",
      "KNN : 0.575(0.005)\n",
      "LR  : 0.615(0.005)\n",
      "RFC : 0.629(0.005)\n"
     ]
    }
   ],
   "source": [
    "def get_desc(model):\n",
    "    for col in model.columns:\n",
    "        if len(str(col)) == 2:\n",
    "            print(str(col),' : {0:.3f}'.format(model[col].mean())+'({0:.3f})'.format(\n",
    "                np.std(model[col])))\n",
    "        else:\n",
    "            print(str(col),': {0:.3f}'.format(model[col].mean())+\n",
    "                  '({0:.3f})'.format(np.std(model[col])))\n",
    "            \n",
    "get_desc(init_models)"
   ]
  },
  {
   "cell_type": "code",
   "execution_count": 33,
   "metadata": {},
   "outputs": [
    {
     "data": {
      "image/png": "[encoded data removed]",
      "text/plain": [
       "<Figure size 720x720 with 1 Axes>"
      ]
     },
     "metadata": {},
     "output_type": "display_data"
    }
   ],
   "source": [
    "fig, ax = plt.subplots()\n",
    "fig.set_size_inches(10,10)\n",
    "im = sns.boxplot(data=init_models, ax=ax)\n",
    "im.set_title('Comparison of Initial Models')\n",
    "im.set_ylabel('Scores')\n",
    "im.set_xlabel('Models')\n",
    "\n",
    "plt.show()"
   ]
  },
  {
   "cell_type": "code",
   "execution_count": 34,
   "metadata": {},
   "outputs": [],
   "source": [
    "#Setting parameter dictionary for Gridsearch on RFC to find best combination\n",
    "parameters = {}\n",
    "parameters['criterion'] = ['entropy','gini']\n",
    "parameters['max_depth'] = [10,20,30,40]\n",
    "parameters['n_estimators'] = [20,40,60,80]\n",
    "\n",
    "#gsc_rfc = GridSearchCV(rfc, parameters, cv=3, verbose=2)\n",
    "#gsc_rfc.fit(X_train, y_train)"
   ]
  },
  {
   "cell_type": "code",
   "execution_count": 35,
   "metadata": {},
   "outputs": [],
   "source": [
    "#print(gsc_rfc.best_params_, gsc_rfc.best_score_)"
   ]
  },
  {
   "cell_type": "code",
   "execution_count": 36,
   "metadata": {},
   "outputs": [],
   "source": [
    "#Setting parameter dictionary for Gridsearch on BNB to find best combination\n",
    "parameters_bnb = {}\n",
    "parameters_bnb['alpha']=[30,40,50,60,70]\n",
    "\n",
    "#gsc_bnb = GridSearchCV(bnb, parameters_bnb, cv=3, verbose=1)\n",
    "#gsc_bnb.fit(X_train, y_train)"
   ]
  },
  {
   "cell_type": "code",
   "execution_count": 37,
   "metadata": {},
   "outputs": [],
   "source": [
    "#print(gsc_bnb.best_params_, gsc_bnb.best_score_)"
   ]
  },
  {
   "cell_type": "code",
   "execution_count": 38,
   "metadata": {},
   "outputs": [],
   "source": [
    "#Setting parameter dictionary for Gridsearch on DT to find best combination\n",
    "parameters_dt = {}\n",
    "parameters_dt['max_depth']=[5,10,20,30]\n",
    "parameters_dt['criterion']=['gini','entropy']\n",
    "\n",
    "#gsc_dt = GridSearchCV(decision_tree, parameters_dt, cv=3, verbose=1)\n",
    "#gsc_dt.fit(X_train, y_train)"
   ]
  },
  {
   "cell_type": "code",
   "execution_count": 39,
   "metadata": {},
   "outputs": [],
   "source": [
    "#print(gsc_dt.best_params_, gsc_dt.best_score_)"
   ]
  },
  {
   "cell_type": "code",
   "execution_count": 40,
   "metadata": {},
   "outputs": [],
   "source": [
    "#Setting parameter dictionary for Gridsearch on DT to find best combination\n",
    "parameters_lr = {}\n",
    "parameters_lr['C']=[0.009,0.01,0.02,0.03]\n",
    "\n",
    "#gsc_lr = GridSearchCV(lr, parameters_lr, cv=3, verbose=1)\n",
    "#gsc_lr.fit(X_train, y_train)"
   ]
  },
  {
   "cell_type": "code",
   "execution_count": 41,
   "metadata": {},
   "outputs": [],
   "source": [
    "#print(gsc_lr.best_params_, gsc_lr.best_score_)"
   ]
  },
  {
   "cell_type": "code",
   "execution_count": 42,
   "metadata": {},
   "outputs": [],
   "source": [
    "#Run all models again with optimized parameters, leaving out KNN due to low performance"
   ]
  },
  {
   "cell_type": "code",
   "execution_count": 43,
   "metadata": {},
   "outputs": [],
   "source": [
    "#Optimized Random Forest\n",
    "rfc_opt = ensemble.RandomForestClassifier(n_estimators=80, criterion='entropy',\n",
    "                                      max_depth=10)\n",
    "rfc_opt.fit(X_train, y_train)\n",
    "rfc_opt_cvs = cross_val_score(rfc_opt, X_train, y_train, cv=10)"
   ]
  },
  {
   "cell_type": "code",
   "execution_count": 44,
   "metadata": {},
   "outputs": [],
   "source": [
    "#Optimized Decision Tree\n",
    "decision_tree_opt = tree.DecisionTreeClassifier(criterion='entropy',max_depth=5)\n",
    "decision_tree_opt.fit(X_train, y_train)\n",
    "dt_opt_cvs = cross_val_score(decision_tree_opt, X_train, y_train, cv=10)"
   ]
  },
  {
   "cell_type": "code",
   "execution_count": 45,
   "metadata": {},
   "outputs": [],
   "source": [
    "#Optimized Bernoulli Naive Bayes\n",
    "bnb_opt = BernoulliNB(alpha=50)\n",
    "bnb_opt.fit(X_train, y_train)\n",
    "bnb_opt_cvs = cross_val_score(bnb_opt, X_train, y_train, cv=10)"
   ]
  },
  {
   "cell_type": "code",
   "execution_count": 46,
   "metadata": {},
   "outputs": [],
   "source": [
    "#Optimized Logistic Regression\n",
    "lr_opt = LogisticRegression(C=0.01)\n",
    "lr_opt.fit(X_train, y_train)\n",
    "lr_opt_cvs = cross_val_score(lr_opt, X_train, y_train, cv=10)"
   ]
  },
  {
   "cell_type": "code",
   "execution_count": 47,
   "metadata": {},
   "outputs": [],
   "source": [
    "#Create DataFrame with new optimized data\n",
    "opt_models = pd.DataFrame({'RFC': rfc_opt_cvs, \n",
    "              'DT': dt_opt_cvs,\n",
    "              'LR': lr_opt_cvs,\n",
    "              'BNB': bnb_opt_cvs})"
   ]
  },
  {
   "cell_type": "code",
   "execution_count": 48,
   "metadata": {},
   "outputs": [
    {
     "name": "stdout",
     "output_type": "stream",
     "text": [
      "BNB : 0.607(0.008)\n",
      "DT  : 0.625(0.007)\n",
      "LR  : 0.615(0.005)\n",
      "RFC : 0.631(0.006)\n"
     ]
    }
   ],
   "source": [
    "get_desc(opt_models)"
   ]
  },
  {
   "cell_type": "code",
   "execution_count": 49,
   "metadata": {},
   "outputs": [
    {
     "data": {
      "image/png": "[encoded data removed]",
      "text/plain": [
       "<Figure size 720x720 with 1 Axes>"
      ]
     },
     "metadata": {},
     "output_type": "display_data"
    }
   ],
   "source": [
    "fig, ax = plt.subplots()\n",
    "fig.set_size_inches(10,10)\n",
    "im = sns.boxplot(data=opt_models, ax=ax)\n",
    "im.set_title('Comparison of Optimized Models')\n",
    "im.set_ylabel('Scores')\n",
    "im.set_xlabel('Models')\n",
    "\n",
    "plt.show()"
   ]
  },
  {
   "cell_type": "code",
   "execution_count": 50,
   "metadata": {},
   "outputs": [],
   "source": [
    "#With the highest correlation, we will use Random Forest Classifier for Feature Selection\n",
    "#Also keeping Logistic Regression for descriptive information"
   ]
  },
  {
   "cell_type": "code",
   "execution_count": 51,
   "metadata": {},
   "outputs": [
    {
     "name": "stdout",
     "output_type": "stream",
     "text": [
      "Fitting estimator with 91 features.\n",
      "Fitting estimator with 90 features.\n",
      "Fitting estimator with 89 features.\n",
      "Fitting estimator with 88 features.\n",
      "Fitting estimator with 87 features.\n",
      "Fitting estimator with 86 features.\n",
      "Fitting estimator with 85 features.\n",
      "Fitting estimator with 84 features.\n",
      "Fitting estimator with 83 features.\n",
      "Fitting estimator with 82 features.\n",
      "Fitting estimator with 81 features.\n",
      "Fitting estimator with 80 features.\n",
      "Fitting estimator with 79 features.\n",
      "Fitting estimator with 78 features.\n",
      "Fitting estimator with 77 features.\n",
      "Fitting estimator with 76 features.\n",
      "Fitting estimator with 75 features.\n",
      "Fitting estimator with 74 features.\n",
      "Fitting estimator with 73 features.\n",
      "Fitting estimator with 72 features.\n",
      "Fitting estimator with 71 features.\n",
      "Fitting estimator with 70 features.\n",
      "Fitting estimator with 69 features.\n",
      "Fitting estimator with 68 features.\n",
      "Fitting estimator with 67 features.\n",
      "Fitting estimator with 66 features.\n",
      "Fitting estimator with 65 features.\n",
      "Fitting estimator with 64 features.\n",
      "Fitting estimator with 63 features.\n",
      "Fitting estimator with 62 features.\n",
      "Fitting estimator with 61 features.\n",
      "Fitting estimator with 60 features.\n",
      "Fitting estimator with 59 features.\n",
      "Fitting estimator with 58 features.\n",
      "Fitting estimator with 57 features.\n",
      "Fitting estimator with 56 features.\n",
      "Fitting estimator with 55 features.\n",
      "Fitting estimator with 54 features.\n",
      "Fitting estimator with 53 features.\n",
      "Fitting estimator with 52 features.\n",
      "Fitting estimator with 51 features.\n",
      "Fitting estimator with 50 features.\n",
      "Fitting estimator with 49 features.\n",
      "Fitting estimator with 48 features.\n",
      "Fitting estimator with 47 features.\n",
      "Fitting estimator with 46 features.\n",
      "Fitting estimator with 45 features.\n",
      "Fitting estimator with 44 features.\n",
      "Fitting estimator with 43 features.\n",
      "Fitting estimator with 42 features.\n",
      "Fitting estimator with 41 features.\n",
      "Fitting estimator with 40 features.\n",
      "Fitting estimator with 39 features.\n",
      "Fitting estimator with 38 features.\n",
      "Fitting estimator with 37 features.\n",
      "Fitting estimator with 36 features.\n",
      "Fitting estimator with 35 features.\n",
      "Fitting estimator with 34 features.\n",
      "Fitting estimator with 33 features.\n",
      "Fitting estimator with 32 features.\n",
      "Fitting estimator with 31 features.\n",
      "Fitting estimator with 30 features.\n",
      "Fitting estimator with 29 features.\n",
      "Fitting estimator with 28 features.\n",
      "Fitting estimator with 27 features.\n",
      "Fitting estimator with 26 features.\n",
      "Fitting estimator with 25 features.\n",
      "Fitting estimator with 24 features.\n",
      "Fitting estimator with 23 features.\n",
      "Fitting estimator with 22 features.\n",
      "Fitting estimator with 21 features.\n",
      "Fitting estimator with 20 features.\n",
      "Fitting estimator with 19 features.\n",
      "Fitting estimator with 18 features.\n",
      "Fitting estimator with 17 features.\n",
      "Fitting estimator with 16 features.\n",
      "Fitting estimator with 15 features.\n",
      "Fitting estimator with 14 features.\n",
      "Fitting estimator with 13 features.\n",
      "Fitting estimator with 12 features.\n",
      "Fitting estimator with 11 features.\n",
      "Fitting estimator with 10 features.\n",
      "Fitting estimator with 9 features.\n",
      "Fitting estimator with 8 features.\n",
      "Fitting estimator with 7 features.\n",
      "Fitting estimator with 6 features.\n",
      "Fitting estimator with 5 features.\n",
      "Fitting estimator with 4 features.\n",
      "Fitting estimator with 3 features.\n",
      "Fitting estimator with 2 features.\n",
      "Fitting estimator with 91 features.\n",
      "Fitting estimator with 90 features.\n",
      "Fitting estimator with 89 features.\n",
      "Fitting estimator with 88 features.\n",
      "Fitting estimator with 87 features.\n",
      "Fitting estimator with 86 features.\n",
      "Fitting estimator with 85 features.\n",
      "Fitting estimator with 84 features.\n",
      "Fitting estimator with 83 features.\n",
      "Fitting estimator with 82 features.\n",
      "Fitting estimator with 81 features.\n",
      "Fitting estimator with 80 features.\n",
      "Fitting estimator with 79 features.\n",
      "Fitting estimator with 78 features.\n",
      "Fitting estimator with 77 features.\n",
      "Fitting estimator with 76 features.\n",
      "Fitting estimator with 75 features.\n",
      "Fitting estimator with 74 features.\n",
      "Fitting estimator with 73 features.\n",
      "Fitting estimator with 72 features.\n",
      "Fitting estimator with 71 features.\n",
      "Fitting estimator with 70 features.\n",
      "Fitting estimator with 69 features.\n",
      "Fitting estimator with 68 features.\n",
      "Fitting estimator with 67 features.\n",
      "Fitting estimator with 66 features.\n",
      "Fitting estimator with 65 features.\n",
      "Fitting estimator with 64 features.\n",
      "Fitting estimator with 63 features.\n",
      "Fitting estimator with 62 features.\n",
      "Fitting estimator with 61 features.\n",
      "Fitting estimator with 60 features.\n",
      "Fitting estimator with 59 features.\n",
      "Fitting estimator with 58 features.\n",
      "Fitting estimator with 57 features.\n",
      "Fitting estimator with 56 features.\n",
      "Fitting estimator with 55 features.\n",
      "Fitting estimator with 54 features.\n",
      "Fitting estimator with 53 features.\n",
      "Fitting estimator with 52 features.\n",
      "Fitting estimator with 51 features.\n",
      "Fitting estimator with 50 features.\n",
      "Fitting estimator with 49 features.\n",
      "Fitting estimator with 48 features.\n",
      "Fitting estimator with 47 features.\n",
      "Fitting estimator with 46 features.\n",
      "Fitting estimator with 45 features.\n",
      "Fitting estimator with 44 features.\n",
      "Fitting estimator with 43 features.\n",
      "Fitting estimator with 42 features.\n",
      "Fitting estimator with 41 features.\n",
      "Fitting estimator with 40 features.\n",
      "Fitting estimator with 39 features.\n",
      "Fitting estimator with 38 features.\n",
      "Fitting estimator with 37 features.\n",
      "Fitting estimator with 36 features.\n",
      "Fitting estimator with 35 features.\n",
      "Fitting estimator with 34 features.\n",
      "Fitting estimator with 33 features.\n",
      "Fitting estimator with 32 features.\n",
      "Fitting estimator with 31 features.\n",
      "Fitting estimator with 30 features.\n",
      "Fitting estimator with 29 features.\n",
      "Fitting estimator with 28 features.\n",
      "Fitting estimator with 27 features.\n",
      "Fitting estimator with 26 features.\n",
      "Fitting estimator with 25 features.\n",
      "Fitting estimator with 24 features.\n",
      "Fitting estimator with 23 features.\n",
      "Fitting estimator with 22 features.\n",
      "Fitting estimator with 21 features.\n",
      "Fitting estimator with 20 features.\n",
      "Fitting estimator with 19 features.\n",
      "Fitting estimator with 18 features.\n",
      "Fitting estimator with 17 features.\n",
      "Fitting estimator with 16 features.\n",
      "Fitting estimator with 15 features.\n",
      "Fitting estimator with 14 features.\n",
      "Fitting estimator with 13 features.\n",
      "Fitting estimator with 12 features.\n",
      "Fitting estimator with 11 features.\n",
      "Fitting estimator with 10 features.\n",
      "Fitting estimator with 9 features.\n",
      "Fitting estimator with 8 features.\n",
      "Fitting estimator with 7 features.\n",
      "Fitting estimator with 6 features.\n",
      "Fitting estimator with 5 features.\n",
      "Fitting estimator with 4 features.\n",
      "Fitting estimator with 3 features.\n",
      "Fitting estimator with 2 features.\n",
      "Fitting estimator with 91 features.\n",
      "Fitting estimator with 90 features.\n",
      "Fitting estimator with 89 features.\n",
      "Fitting estimator with 88 features.\n",
      "Fitting estimator with 87 features.\n",
      "Fitting estimator with 86 features.\n",
      "Fitting estimator with 85 features.\n",
      "Fitting estimator with 84 features.\n",
      "Fitting estimator with 83 features.\n",
      "Fitting estimator with 82 features.\n",
      "Fitting estimator with 81 features.\n",
      "Fitting estimator with 80 features.\n",
      "Fitting estimator with 79 features.\n",
      "Fitting estimator with 78 features.\n",
      "Fitting estimator with 77 features.\n",
      "Fitting estimator with 76 features.\n",
      "Fitting estimator with 75 features.\n",
      "Fitting estimator with 74 features.\n",
      "Fitting estimator with 73 features.\n",
      "Fitting estimator with 72 features.\n",
      "Fitting estimator with 71 features.\n",
      "Fitting estimator with 70 features.\n",
      "Fitting estimator with 69 features.\n",
      "Fitting estimator with 68 features.\n",
      "Fitting estimator with 67 features.\n",
      "Fitting estimator with 66 features.\n",
      "Fitting estimator with 65 features.\n",
      "Fitting estimator with 64 features.\n",
      "Fitting estimator with 63 features.\n",
      "Fitting estimator with 62 features.\n",
      "Fitting estimator with 61 features.\n",
      "Fitting estimator with 60 features.\n",
      "Fitting estimator with 59 features.\n",
      "Fitting estimator with 58 features.\n",
      "Fitting estimator with 57 features.\n",
      "Fitting estimator with 56 features.\n",
      "Fitting estimator with 55 features.\n",
      "Fitting estimator with 54 features.\n",
      "Fitting estimator with 53 features.\n",
      "Fitting estimator with 52 features.\n",
      "Fitting estimator with 51 features.\n",
      "Fitting estimator with 50 features.\n",
      "Fitting estimator with 49 features.\n",
      "Fitting estimator with 48 features.\n",
      "Fitting estimator with 47 features.\n",
      "Fitting estimator with 46 features.\n",
      "Fitting estimator with 45 features.\n",
      "Fitting estimator with 44 features.\n",
      "Fitting estimator with 43 features.\n"
     ]
    },
    {
     "name": "stdout",
     "output_type": "stream",
     "text": [
      "Fitting estimator with 42 features.\n",
      "Fitting estimator with 41 features.\n",
      "Fitting estimator with 40 features.\n",
      "Fitting estimator with 39 features.\n",
      "Fitting estimator with 38 features.\n",
      "Fitting estimator with 37 features.\n",
      "Fitting estimator with 36 features.\n",
      "Fitting estimator with 35 features.\n",
      "Fitting estimator with 34 features.\n",
      "Fitting estimator with 33 features.\n",
      "Fitting estimator with 32 features.\n",
      "Fitting estimator with 31 features.\n",
      "Fitting estimator with 30 features.\n",
      "Fitting estimator with 29 features.\n",
      "Fitting estimator with 28 features.\n",
      "Fitting estimator with 27 features.\n",
      "Fitting estimator with 26 features.\n",
      "Fitting estimator with 25 features.\n",
      "Fitting estimator with 24 features.\n",
      "Fitting estimator with 23 features.\n",
      "Fitting estimator with 22 features.\n",
      "Fitting estimator with 21 features.\n",
      "Fitting estimator with 20 features.\n",
      "Fitting estimator with 19 features.\n",
      "Fitting estimator with 18 features.\n",
      "Fitting estimator with 17 features.\n",
      "Fitting estimator with 16 features.\n",
      "Fitting estimator with 15 features.\n",
      "Fitting estimator with 14 features.\n",
      "Fitting estimator with 13 features.\n",
      "Fitting estimator with 12 features.\n",
      "Fitting estimator with 11 features.\n",
      "Fitting estimator with 10 features.\n",
      "Fitting estimator with 9 features.\n",
      "Fitting estimator with 8 features.\n",
      "Fitting estimator with 7 features.\n",
      "Fitting estimator with 6 features.\n",
      "Fitting estimator with 5 features.\n",
      "Fitting estimator with 4 features.\n",
      "Fitting estimator with 3 features.\n",
      "Fitting estimator with 2 features.\n"
     ]
    },
    {
     "data": {
      "text/plain": [
       "RFECV(cv=3,\n",
       "   estimator=RandomForestClassifier(bootstrap=True, class_weight=None, criterion='entropy',\n",
       "            max_depth=10, max_features='auto', max_leaf_nodes=None,\n",
       "            min_impurity_decrease=0.0, min_impurity_split=None,\n",
       "            min_samples_leaf=1, min_samples_split=2,\n",
       "            min_weight_fraction_leaf=0.0, n_estimators=80, n_jobs=1,\n",
       "            oob_score=False, random_state=None, verbose=0,\n",
       "            warm_start=False),\n",
       "   n_jobs=1, scoring=None, step=1, verbose=2)"
      ]
     },
     "execution_count": 51,
     "metadata": {},
     "output_type": "execute_result"
    }
   ],
   "source": [
    "#Running Recursive Feature Elimination to get ranks of features\n",
    "rfe = RFECV(rfc_opt, cv=3, verbose=2)\n",
    "rfe.fit(X_train, y_train)"
   ]
  },
  {
   "cell_type": "code",
   "execution_count": 52,
   "metadata": {},
   "outputs": [
    {
     "data": {
      "text/plain": [
       "array([ 1,  1,  1,  1,  1,  1,  1,  1,  1,  1,  1,  1, 65, 54, 62, 66, 69,\n",
       "       55, 64, 67, 68,  1,  1, 17,  2,  1,  9, 21, 16,  1, 14,  1, 23,  1,\n",
       "       13, 20, 33,  1,  4, 27, 51, 25, 22, 42, 59, 35, 37, 49, 71, 46, 45,\n",
       "       58, 39, 19, 24, 38, 34,  3,  8, 29, 30, 11,  7, 28, 44, 10, 15, 40,\n",
       "       43, 18,  5, 41, 61, 32, 36, 52, 57, 47, 53, 60, 48, 50, 70,  1,  1,\n",
       "        6, 12, 63, 31, 26, 56])"
      ]
     },
     "execution_count": 52,
     "metadata": {},
     "output_type": "execute_result"
    }
   ],
   "source": [
    "#Check out which features are estimated to be the best\n",
    "rfe.ranking_"
   ]
  },
  {
   "cell_type": "code",
   "execution_count": 53,
   "metadata": {},
   "outputs": [],
   "source": [
    "#Getting rows that correlate to most significant correlation\n",
    "index = 0\n",
    "r1_ind = []\n",
    "\n",
    "for rank in rfe.ranking_:\n",
    "    if rank == 1:\n",
    "        r1_ind.append(index)\n",
    "    index+=1\n",
    "\n",
    "rank1_columns = X_train.columns[r1_ind]"
   ]
  },
  {
   "cell_type": "code",
   "execution_count": 151,
   "metadata": {},
   "outputs": [
    {
     "name": "stdout",
     "output_type": "stream",
     "text": [
      "Index(['gender', 'age', 'admission_type_id', 'discharge_disposition_id',\n",
      "       'time_in_hospital', 'num_lab_procedures', 'num_procedures',\n",
      "       'num_medications', 'number_outpatient', 'number_emergency',\n",
      "       'number_inpatient', 'number_diagnoses', 'change', 'diabetesMed',\n",
      "       'A1Cresult_None', 'max_glu_serum_None', 'race_AfricanAmerican',\n",
      "       'race_Caucasian', 'metformin_No', 'insulin_Down', 'insulin_No'],\n",
      "      dtype='object')\n"
     ]
    }
   ],
   "source": [
    "#Let's take a look at the columns that those #1 ranks correlate to\n",
    "print(rank1_columns)"
   ]
  },
  {
   "cell_type": "code",
   "execution_count": 54,
   "metadata": {},
   "outputs": [],
   "source": [
    "#Create new dataset to run RFC and LR on\n",
    "X_short = X.loc[:, rank1_columns]\n",
    "X_train2, X_test2, y_train, y_test = train_test_split(X_short,y,test_size=0.2)"
   ]
  },
  {
   "cell_type": "code",
   "execution_count": 55,
   "metadata": {},
   "outputs": [],
   "source": [
    "#Running Random Forest with reduced dataset\n",
    "rfc_red = ensemble.RandomForestClassifier(n_estimators=80, criterion='entropy',\n",
    "                                      max_depth=10)\n",
    "rfc_red.fit(X_train2, y_train)\n",
    "rfc_red_cvs = cross_val_score(rfc_red, X_train2, y_train, cv=10)"
   ]
  },
  {
   "cell_type": "code",
   "execution_count": 56,
   "metadata": {},
   "outputs": [],
   "source": [
    "#Reduced Logistic Regression\n",
    "lr_red = LogisticRegression(C=0.01)\n",
    "lr_red.fit(X_train2, y_train)\n",
    "lr_red_cvs = cross_val_score(lr_red, X_train2, y_train, cv=10)"
   ]
  },
  {
   "cell_type": "code",
   "execution_count": 57,
   "metadata": {},
   "outputs": [],
   "source": [
    "#Reduced Decision Tree\n",
    "decision_tree_red = tree.DecisionTreeClassifier(criterion='entropy',max_depth=5)\n",
    "decision_tree_red.fit(X_train2, y_train)\n",
    "dt_red_cvs = cross_val_score(decision_tree_red, X_train2, y_train, cv=10)"
   ]
  },
  {
   "cell_type": "code",
   "execution_count": 58,
   "metadata": {},
   "outputs": [],
   "source": [
    "#Create DataFrame with new reduced data\n",
    "red_models = pd.DataFrame({'RFC': rfc_red_cvs,\n",
    "                           'DT': dt_red_cvs,\n",
    "                            'LR': lr_red_cvs})"
   ]
  },
  {
   "cell_type": "code",
   "execution_count": 59,
   "metadata": {},
   "outputs": [
    {
     "name": "stdout",
     "output_type": "stream",
     "text": [
      "DT  : 0.625(0.005)\n",
      "LR  : 0.616(0.006)\n",
      "RFC : 0.632(0.006)\n"
     ]
    }
   ],
   "source": [
    "get_desc(red_models)"
   ]
  },
  {
   "cell_type": "code",
   "execution_count": 60,
   "metadata": {},
   "outputs": [
    {
     "data": {
      "image/png": "[encoded data removed]",
      "text/plain": [
       "<Figure size 504x720 with 1 Axes>"
      ]
     },
     "metadata": {},
     "output_type": "display_data"
    }
   ],
   "source": [
    "fig, ax = plt.subplots()\n",
    "fig.set_size_inches(7,10)\n",
    "im = sns.boxplot(data=red_models, ax=ax)\n",
    "im.set_title('Comparison of Reduced Models')\n",
    "im.set_ylabel('Scores')\n",
    "im.set_xlabel('Models')\n",
    "\n",
    "plt.show()"
   ]
  },
  {
   "cell_type": "code",
   "execution_count": 61,
   "metadata": {},
   "outputs": [],
   "source": [
    "#Try Boosting Model\n",
    "gbc = ensemble.GradientBoostingClassifier(loss='deviance', n_estimators=20, max_depth=4\n",
    "                                         ,subsample=1.0, learning_rate=0.1)\n",
    "gbc.fit(X_train2, y_train)\n",
    "gbc_cvs = cross_val_score(gbc, X_train2, y_train, cv=10)"
   ]
  },
  {
   "cell_type": "code",
   "execution_count": 62,
   "metadata": {},
   "outputs": [
    {
     "data": {
      "text/plain": [
       "0.6285663381473501"
      ]
     },
     "execution_count": 62,
     "metadata": {},
     "output_type": "execute_result"
    }
   ],
   "source": [
    "gbc_cvs.mean()"
   ]
  },
  {
   "cell_type": "code",
   "execution_count": 63,
   "metadata": {},
   "outputs": [],
   "source": [
    "#Setting parameter dictionary for Gridsearch on GBC to find best combination\n",
    "parameters_gbc = {}\n",
    "parameters_gbc['loss'] = ['deviance','exponential']\n",
    "parameters_gbc['n_estimators'] = [5,10,20]\n",
    "parameters_gbc['max_depth'] = [3,4,5,10]\n",
    "\n",
    "#gsc_gbc = GridSearchCV(gbc, parameters_gbc, cv=3, verbose=2)\n",
    "#gsc_gbc.fit(X_train2, y_train)"
   ]
  },
  {
   "cell_type": "code",
   "execution_count": 64,
   "metadata": {},
   "outputs": [],
   "source": [
    "#print(gsc_gbc.best_params_, gsc_gbc.best_score_)"
   ]
  },
  {
   "cell_type": "code",
   "execution_count": 65,
   "metadata": {},
   "outputs": [],
   "source": [
    "#Try Boosting Model\n",
    "gbc_opt = ensemble.GradientBoostingClassifier(loss='exponential', n_estimators=20, \n",
    "                                              max_depth=10,subsample=1.0, \n",
    "                                              learning_rate=0.1)\n",
    "gbc_opt.fit(X_train2, y_train)\n",
    "gbc_opt_cvs = cross_val_score(gbc_opt, X_train2, y_train, cv=10)"
   ]
  },
  {
   "cell_type": "code",
   "execution_count": 66,
   "metadata": {},
   "outputs": [],
   "source": [
    "#Create separate DataFrame with Boosting Model added in\n",
    "red_model_wboost = pd.DataFrame({'RFC': rfc_red_cvs,\n",
    "                                 'DT': dt_red_cvs,\n",
    "                                 'LR': lr_red_cvs,\n",
    "                                 'GBC': gbc_opt_cvs})"
   ]
  },
  {
   "cell_type": "code",
   "execution_count": 67,
   "metadata": {},
   "outputs": [
    {
     "name": "stdout",
     "output_type": "stream",
     "text": [
      "DT  : 0.625(0.005)\n",
      "GBC : 0.630(0.006)\n",
      "LR  : 0.616(0.006)\n",
      "RFC : 0.632(0.006)\n"
     ]
    }
   ],
   "source": [
    "get_desc(red_model_wboost)"
   ]
  },
  {
   "cell_type": "code",
   "execution_count": 68,
   "metadata": {},
   "outputs": [
    {
     "data": {
      "image/png": "[encoded data removed]",
      "text/plain": [
       "<Figure size 648x720 with 1 Axes>"
      ]
     },
     "metadata": {},
     "output_type": "display_data"
    }
   ],
   "source": [
    "fig, ax = plt.subplots()\n",
    "fig.set_size_inches(9,10)\n",
    "im = sns.boxplot(data=red_model_wboost, ax=ax)\n",
    "im.set_title('Comparison of Reduced Models with Boost')\n",
    "im.set_ylabel('Scores')\n",
    "im.set_xlabel('Models')\n",
    "\n",
    "plt.show()\n",
    "#fig.savefig('red_model_wboost.png')"
   ]
  },
  {
   "cell_type": "code",
   "execution_count": 69,
   "metadata": {},
   "outputs": [],
   "source": [
    "#Running Final Random Forest Model\n",
    "rfc_final = ensemble.RandomForestClassifier(n_estimators=80, criterion='entropy',\n",
    "                                      max_depth=10)\n",
    "rfc_final.fit(X_test2, y_test)\n",
    "rfc_final_cvs = cross_val_score(rfc_final, X_test2, y_test, cv=10)"
   ]
  },
  {
   "cell_type": "code",
   "execution_count": 70,
   "metadata": {},
   "outputs": [],
   "source": [
    "#Final Boosting Model\n",
    "gbc_final = ensemble.GradientBoostingClassifier(loss='exponential', n_estimators=20, \n",
    "                                              max_depth=10,subsample=1.0, \n",
    "                                              learning_rate=0.1)\n",
    "gbc_final.fit(X_test2, y_test)\n",
    "gbc_final_cvs = cross_val_score(gbc_final, X_test2, y_test, cv=10)"
   ]
  },
  {
   "cell_type": "code",
   "execution_count": 71,
   "metadata": {},
   "outputs": [],
   "source": [
    "#Final Decision Tree\n",
    "dt_final = tree.DecisionTreeClassifier(criterion='entropy',max_depth=5)\n",
    "dt_final.fit(X_test2, y_test)\n",
    "dt_final_cvs = cross_val_score(dt_final, X_test2, y_test, cv=10)"
   ]
  },
  {
   "cell_type": "code",
   "execution_count": 72,
   "metadata": {},
   "outputs": [],
   "source": [
    "#Final Logistic Regression\n",
    "lr_final = LogisticRegression(C=0.01)\n",
    "lr_final.fit(X_test2, y_test)\n",
    "lr_final_cvs = cross_val_score(lr_final, X_test2, y_test, cv=10)"
   ]
  },
  {
   "cell_type": "code",
   "execution_count": 73,
   "metadata": {},
   "outputs": [],
   "source": [
    "#Create Final DataFrame with Models run on test data\n",
    "final_model = pd.DataFrame({'RFC': rfc_final_cvs,\n",
    "                                 'DT': dt_final_cvs,\n",
    "                                 'LR': lr_final_cvs,\n",
    "                                 'GBC': gbc_final_cvs})"
   ]
  },
  {
   "cell_type": "code",
   "execution_count": 74,
   "metadata": {},
   "outputs": [
    {
     "name": "stdout",
     "output_type": "stream",
     "text": [
      "DT  : 0.620(0.007)\n",
      "GBC : 0.618(0.009)\n",
      "LR  : 0.612(0.008)\n",
      "RFC : 0.629(0.011)\n"
     ]
    }
   ],
   "source": [
    "get_desc(final_model)"
   ]
  },
  {
   "cell_type": "markdown",
   "metadata": {},
   "source": [
    "# Appendix"
   ]
  },
  {
   "cell_type": "code",
   "execution_count": 119,
   "metadata": {},
   "outputs": [],
   "source": [
    "init_graph_df= init_models.loc[:,['DT','LR','RFC']]"
   ]
  },
  {
   "cell_type": "code",
   "execution_count": 147,
   "metadata": {},
   "outputs": [
    {
     "data": {
      "image/png": "[encoded data removed]",
      "text/plain": [
       "<Figure size 1440x1080 with 3 Axes>"
      ]
     },
     "metadata": {},
     "output_type": "display_data"
    }
   ],
   "source": [
    "fig = plt.figure(figsize=(20, 15))\n",
    "#fig.subplots_adjust(hspace=0.5, wspace=0.5)\n",
    "\n",
    "\n",
    "plt.subplot(1,3,3)\n",
    "im = sns.boxplot(data=final_model)\n",
    "im.set_title('Final Model', fontsize=15)\n",
    "im.set_ylabel('Scores', fontsize=15)\n",
    "im.set_xlabel('Models', fontsize=15)\n",
    "plt.yticks([0.59,0.60,0.62,0.63,0.64,0.65,0.66], fontsize=13)\n",
    "plt.xticks(fontsize=13)\n",
    "\n",
    "\n",
    "plt.subplot(1,3,2)\n",
    "im = sns.boxplot(data=red_model_wboost)\n",
    "im.set_title('Optimized Model', fontsize=15)\n",
    "im.set_ylabel('Scores', fontsize=15)\n",
    "im.set_xlabel('Models', fontsize=15)\n",
    "plt.yticks([0.59,0.60,0.62,0.63,0.64,0.65,0.66],fontsize=13)\n",
    "plt.xticks(fontsize=13)\n",
    "\n",
    "plt.subplot(1,3,1)\n",
    "im = sns.boxplot(data=init_graph_df)\n",
    "im.set_title('Initial Model', fontsize=15)\n",
    "im.set_ylabel('Scores', fontsize=15)\n",
    "im.set_xlabel('Models', fontsize=15)\n",
    "plt.xticks(fontsize=13)\n",
    "plt.yticks([0.59,0.60,0.62,0.63,0.64,0.65,0.66], fontsize=13)\n",
    "\n",
    "plt.show()\n",
    "fig.savefig('Final_Models.png')"
   ]
  },
  {
   "cell_type": "code",
   "execution_count": 150,
   "metadata": {},
   "outputs": [
    {
     "data": {
      "image/png": "[encoded data removed]",
      "text/plain": [
       "<Figure size 1440x1080 with 2 Axes>"
      ]
     },
     "metadata": {},
     "output_type": "display_data"
    }
   ],
   "source": [
    "#Final on Test vs Final on Train Datasets\n",
    "fig = plt.figure(figsize=(20, 15))\n",
    "#fig.subplots_adjust(hspace=0.5, wspace=0.5)\n",
    "\n",
    "plt.subplot(1,2,1)\n",
    "im = sns.boxplot(data=final_model)\n",
    "im.set_title('Final Model on Test Set', fontsize=15)\n",
    "im.set_ylabel('Scores', fontsize=15)\n",
    "im.set_xlabel('Models', fontsize=15)\n",
    "plt.yticks([0.59,0.60,0.62,0.63,0.64,0.65,0.66], fontsize=13)\n",
    "plt.xticks(fontsize=13)\n",
    "\n",
    "plt.subplot(1,2,2)\n",
    "im = sns.boxplot(data=red_model_wboost)\n",
    "im.set_title('Final Model on Train Set', fontsize=15)\n",
    "im.set_ylabel('Scores', fontsize=15)\n",
    "im.set_xlabel('Models', fontsize=15)\n",
    "plt.yticks([0.59,0.60,0.62,0.63,0.64,0.65,0.66], fontsize=13)\n",
    "plt.xticks(fontsize=13)\n",
    "\n",
    "fig.savefig('TestvTrain_Finalmodel.png')"
   ]
  },
  {
   "cell_type": "code",
   "execution_count": 193,
   "metadata": {},
   "outputs": [
    {
     "name": "stdout",
     "output_type": "stream",
     "text": [
      "gender 0.52\n",
      "age 0.50\n",
      "admission_type_id 0.50\n",
      "discharge_disposition_id 0.50\n",
      "time_in_hospital 0.50\n",
      "num_lab_procedures 0.50\n",
      "num_procedures 0.49\n",
      "num_medications 0.50\n",
      "number_outpatient 0.52\n",
      "number_emergency 0.54\n",
      "number_inpatient 0.59\n",
      "number_diagnoses 0.52\n",
      "change 0.50\n",
      "diabetesMed 0.56\n",
      "A1Cresult_None 0.48\n",
      "max_glu_serum_None 0.45\n",
      "race_AfricanAmerican 0.48\n",
      "race_Caucasian 0.49\n",
      "metformin_No 0.51\n",
      "insulin_Down 0.53\n",
      "insulin_No 0.51\n"
     ]
    }
   ],
   "source": [
    "#Check out coeffcients of cost function - how do each of these things affect the final\n",
    "#outcome?\n",
    "#Raise coef to power of e and divide by 1+e^x to get probability of \n",
    "#getting y=1 (readmittance)\n",
    "for i in range(21):\n",
    "    print(X_short.columns[i],'{0:.2f}'.format((np.e**lr_final.coef_[0][i])/(1+(np.e**lr_final.coef_[0][i]))))"
   ]
  },
  {
   "cell_type": "code",
   "execution_count": 204,
   "metadata": {},
   "outputs": [],
   "source": [
    "#Checking to see if any medications were ranked high (<=10) in our feature elimination\n",
    "#Getting rows that correlate to most significant correlation\n",
    "index5 = 0\n",
    "r5_ind = []\n",
    "\n",
    "for rank in rfe.ranking_:\n",
    "    if rank == 2 or rank == 3or rank == 4 or rank == 5:\n",
    "        r5_ind.append(index5)\n",
    "    index5+=1\n",
    "\n",
    "rank5_columns = X_train.columns[r5_ind]\n",
    "print(rank5_columns)"
   ]
  }
 ],
 "metadata": {
  "kernelspec": {
   "display_name": "Python 3",
   "language": "python",
   "name": "python3"
  },
  "language_info": {
   "codemirror_mode": {
    "name": "ipython",
    "version": 3
   },
   "file_extension": ".py",
   "mimetype": "text/x-python",
   "name": "python",
   "nbconvert_exporter": "python",
   "pygments_lexer": "ipython3",
   "version": "3.6.4"
  }
 },
 "nbformat": 4,
 "nbformat_minor": 2
}
